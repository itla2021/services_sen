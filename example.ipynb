{
 "cells": [
  {
   "cell_type": "markdown",
   "metadata": {},
   "source": [
    "## Demo cách insert với càm hàm core của dự án SEN"
   ]
  },
  {
   "cell_type": "markdown",
   "metadata": {},
   "source": [
    "### 1. Insert hr_employee_template"
   ]
  },
  {
   "cell_type": "code",
   "execution_count": 5,
   "metadata": {},
   "outputs": [],
   "source": [
    "from hr_employee_template import ProcessHrEmployeeTemplate\n",
    "from config import HR_EMPLOYEE_TEMPLATE_INPUT, SQL_HR_EMPLOYEE_TEMPLATE_COMMAND\n",
    "import pandas as pd"
   ]
  },
  {
   "cell_type": "code",
   "execution_count": 10,
   "metadata": {},
   "outputs": [
    {
     "name": "stdout",
     "output_type": "stream",
     "text": [
      "Returned IDs: [(56631, 1, 'NVPRO', 'SA00921', 'Đậu Thị Huyền Trang', True, False, datetime.date(2023, 10, 2), datetime.date(1986, 3, 18), '967986789', 'trang.dau@leschaco.com', '42186000120')]\n",
      "Output file save at ./output/hr_employee_template_20231228_104052.csv\n"
     ]
    }
   ],
   "source": [
    "# ======================================================\n",
    "#               READ DATA TO DATAFRAME\n",
    "\n",
    "df_hr_employee_template = pd.read_csv(HR_EMPLOYEE_TEMPLATE_INPUT)\n",
    "data = ProcessHrEmployeeTemplate(df_hr_employee_template)\n",
    "# data.code[3]='SA00921'\n",
    "# values = data.to_numpy()[3:4]\n",
    "values = data.to_numpy()\n",
    "\n",
    "# ======================================================\n",
    "#               INSERT INTO DATABASE\n",
    "\n",
    "# Insert data to PostgreSQL database\n",
    "data.insert_postgre(sql_command=SQL_HR_EMPLOYEE_TEMPLATE_COMMAND, values=values)"
   ]
  },
  {
   "cell_type": "markdown",
   "metadata": {},
   "source": [
    "### 2. Insert resource_resource"
   ]
  },
  {
   "cell_type": "code",
   "execution_count": 1,
   "metadata": {},
   "outputs": [],
   "source": [
    "from resource_resource import ProcessResourceResource\n",
    "from config import RESOURCE_RESOURCE_INPUT, SQL_RESOURCE_RESOURCE_COMMAND\n",
    "import pandas as pd"
   ]
  },
  {
   "cell_type": "code",
   "execution_count": 2,
   "metadata": {},
   "outputs": [
    {
     "name": "stdout",
     "output_type": "stream",
     "text": [
      "Returned IDs: [(282079, True, 'D00928-Nguyễn Thị Quỳnh Như', 1, 'userproe', 100.0, 1, datetime.datetime(2023, 12, 1, 0, 0), 1), (282080, True, 'D00930-Nguyễn Thành Đạt', 1, 'userproe', 100.0, 1, datetime.datetime(2023, 12, 1, 0, 0), 1), (282081, True, 'D00940-Nguyễn Thị Minh Hạnh', 1, 'userproe', 100.0, 1, datetime.datetime(2023, 12, 1, 0, 0), 1)]\n",
      "Output file save at ./output/resource_resource_20231228_102035.csv\n"
     ]
    }
   ],
   "source": [
    "\n",
    "# ======================================================\n",
    "#               READ DATA TO DATAFRAME\n",
    "\n",
    "df_resource_resource = pd.read_csv(RESOURCE_RESOURCE_INPUT)\n",
    "data = ProcessResourceResource(df_resource_resource)\n",
    "values = data.to_numpy()\n",
    "# values = data.to_numpy()[7:10] # limit data input\n",
    "\n",
    "\n",
    "# ======================================================\n",
    "#               INSERT INTO DATABASE\n",
    "\n",
    "# Insert data to PostgreSQL database\n",
    "data.insert_postgre(sql_command=SQL_RESOURCE_RESOURCE_COMMAND, values=values)"
   ]
  },
  {
   "cell_type": "markdown",
   "metadata": {},
   "source": [
    "### 3. Insert hr_employee"
   ]
  },
  {
   "cell_type": "code",
   "execution_count": 11,
   "metadata": {},
   "outputs": [],
   "source": [
    "from hr_employee import ProcessHrEmployee\n",
    "from config import HR_EMPLOYEE_INPUT, SQL_HR_EMPLOYEE_COMMAND\n",
    "import pandas as pd"
   ]
  },
  {
   "cell_type": "code",
   "execution_count": 13,
   "metadata": {},
   "outputs": [
    {
     "name": "stdout",
     "output_type": "stream",
     "text": [
      "Returned IDs: [(74015, 'P00923-01', 'Trương Thị Thảo Ngân', True, 21, 777, 1, 'office', 18038, 1851, 11, 47758, 416, datetime.date(2017, 1, 16), 'confirm', 3, 11, 125, 'LES030', datetime.date(1992, 10, 13), '0792744248', 'Truongngan92@gmail.com', '25160757', 'P00923')]\n",
      "Output file save at ./output/hr_employee_20231228_104746.csv\n"
     ]
    }
   ],
   "source": [
    "# ======================================================\n",
    "#               READ DATA TO DATAFRAME\n",
    "\n",
    "df_hr_employee = pd.read_csv(HR_EMPLOYEE_INPUT)\n",
    "data = ProcessHrEmployee(df_hr_employee)\n",
    "\n",
    "data.mobile = ['0' + value if value != '' else '' for value in data.mobile] #thêm số 0 vào trước số điện thoại\n",
    "values = data.to_numpy()\n",
    "\n",
    "# data.employee_template_id[1] = 47758\n",
    "# data.project_policy_id[1] = 11\n",
    "# data.resource_id[1] = 416\n",
    "# values = data.to_numpy()[1:2]\n",
    "\n",
    "\n",
    "# ======================================================\n",
    "#               INSERT INTO DATABASE\n",
    "\n",
    "# Insert data to PostgreSQL database\n",
    "data.insert_postgre(sql_command=SQL_HR_EMPLOYEE_COMMAND, values=values)"
   ]
  },
  {
   "cell_type": "markdown",
   "metadata": {},
   "source": [
    "### 4. Insert hr_contract"
   ]
  },
  {
   "cell_type": "code",
   "execution_count": 15,
   "metadata": {},
   "outputs": [],
   "source": [
    "from hr_contract import ProcessHrContact\n",
    "from config import HR_CONTRACT_INPUT, SQL_HR_CONTRACT_COMMAND\n",
    "import pandas as pd"
   ]
  },
  {
   "cell_type": "code",
   "execution_count": 18,
   "metadata": {},
   "outputs": [
    {
     "name": "stdout",
     "output_type": "stream",
     "text": [
      "Returned IDs: [(88279, 'P00921-01/010123', 9441, 125, 27, 777, datetime.date(2023, 1, 1), datetime.date(2025, 1, 31), 1, Decimal('0'), 'close', 1, 278, 'monthly', False, True, False, False, 'gross', Decimal('0'), Decimal('0'), False, 'normal', False, False, False, False, False, 65318, datetime.date(2023, 4, 1), 1851, 'P00921-01/010123', '1', False, False, False, True, 16, 1354, 'P00921', 2, False, False, False, False, 22, 63, 1, 9, 4, 1, 1, 6, 1, datetime.date(2024, 3, 31), 1, 8, 1, 3, 1, 6, 6, 1, 1, 1, 200, False, datetime.date(2023, 1, 1), 2, 3, False, 3, 6, False, True, 73, False, 'day', False, False, 'paper_sign', 2462, 765, 0.0, datetime.datetime(2023, 6, 7, 0, 0))]\n",
      "Output file save at ./output/hr_contract_20231228_105253.csv\n"
     ]
    }
   ],
   "source": [
    "\n",
    "# ======================================================\n",
    "#               READ DATA TO DATAFRAME\n",
    "\n",
    "df_hr_contract = pd.read_csv(HR_CONTRACT_INPUT)\n",
    "data = ProcessHrContact(df_hr_contract)\n",
    "values = data.to_numpy()\n",
    "# data.project_policy_id[1]=16\n",
    "# values = data.to_numpy()[1:2]\n",
    "\n",
    "\n",
    "# ======================================================\n",
    "#               INSERT INTO DATABASE\n",
    "\n",
    "# Insert data to PostgreSQL database\n",
    "data.insert_postgre(sql_command=SQL_HR_CONTRACT_COMMAND, values=values)"
   ]
  },
  {
   "cell_type": "markdown",
   "metadata": {},
   "source": [
    "### 5. Insert hr_payslip_run"
   ]
  },
  {
   "cell_type": "code",
   "execution_count": 19,
   "metadata": {},
   "outputs": [],
   "source": [
    "from hr_payslip_run import ProcessHrPayslipRun\n",
    "from config import HR_PAYSLIP_RUN_INPUT, SQL_HR_PAYSLIP_RUN_COMMAND\n",
    "import pandas as pd"
   ]
  },
  {
   "cell_type": "code",
   "execution_count": 20,
   "metadata": {},
   "outputs": [
    {
     "name": "stdout",
     "output_type": "stream",
     "text": [
      "Returned IDs: [(13212, '06.2022 - SCHENKER LOGISTICS NORTH', 'approved', datetime.date(2022, 6, 1), datetime.date(2022, 6, 30), 2286), (13213, '06.2022_BANG LUONG MAERSK DC1.1', 'approved', datetime.date(2022, 5, 21), datetime.date(2022, 6, 20), 2280)]\n",
      "Output file save at ./output/hr_payslip_run_20231228_105624.csv\n"
     ]
    }
   ],
   "source": [
    "\n",
    "# ======================================================\n",
    "#               READ DATA TO DATAFRAME\n",
    "\n",
    "df_hr_payslip_run = pd.read_csv(HR_PAYSLIP_RUN_INPUT)\n",
    "data = ProcessHrPayslipRun(df_hr_payslip_run)\n",
    "values = data.to_numpy()\n",
    "\n",
    "# values = data.to_numpy()[8:10]\n",
    "\n",
    "# ======================================================\n",
    "#               INSERT INTO DATABASE\n",
    "\n",
    "# Insert data to PostgreSQL database\n",
    "data.insert_postgre(sql_command=SQL_HR_PAYSLIP_RUN_COMMAND, values=values)"
   ]
  },
  {
   "cell_type": "markdown",
   "metadata": {},
   "source": [
    "### 6. Insert hr_payslip"
   ]
  },
  {
   "cell_type": "code",
   "execution_count": 1,
   "metadata": {},
   "outputs": [],
   "source": [
    "from hr_payslip import ProcessHrPayslip\n",
    "from config import HR_PAYSLIP_INPUT, SQL_HR_PAYSLIP_COMMAND\n",
    "import pandas as pd"
   ]
  },
  {
   "cell_type": "code",
   "execution_count": 2,
   "metadata": {},
   "outputs": [
    {
     "name": "stdout",
     "output_type": "stream",
     "text": [
      "Returned IDs: [(527468, 273, 'Salary Slip of Nguyễn Thị Sen for August-2022', 'SLIP/74346', 52401, '08/2022', datetime.date(2022, 8, 1), datetime.date(2022, 8, 31), None, None, '2023', 36907, None, 751, 97, 13, 82460, None, None, '', '', None, None, None, 857, 23, None, None, None, 'NGUYEN THI SEN', '1019383290', 'VCB CN NAM BINH DUONG', 'Ngân hàng Thương mại Cổ phần Ngoại thương Việt Nam - Chi nhánh Nam Bình Dương', '74203003', 'direct_deposit'), (527469, 273, 'Salary Slip of Nguyễn Thị Quý Châu for August-2022', 'SLIP/74347', 53993, '08/2022', datetime.date(2022, 8, 1), datetime.date(2022, 8, 31), None, None, '2023', 38677, None, 751, 97, 13, 82467, None, None, '', '', None, None, None, 857, 23, None, None, None, '', '', '', '', '', 'direct_deposit'), (527470, 52, 'Salary Slip of Nguyễn Hữu Lợi for July-2022', '', 22441, '07/2022', datetime.date(2022, 6, 21), datetime.date(2022, 7, 20), True, None, '2022', 1304, False, 739, 126, 13, 66594, None, None, '', '', None, None, 42, 830, 21, None, False, False, '', '', '', '', '', 'direct_deposit'), (527471, 273, 'Salary Slip of Nguyễn Thị Thanh for August-2022', 'SLIP/74348', 62954, '08/2022', datetime.date(2022, 8, 1), datetime.date(2022, 8, 31), None, None, '2023', 8154, None, 751, 97, 13, 82544, None, None, '', '', None, None, None, 857, 23, None, None, None, 'NGUYEN THI THANH', '121220733', 'VPBB', 'Ngân hàng Thương mại Cổ phần Việt Nam Thịnh Vượng', '970406', 'direct_deposit')]\n",
      "Output file save at ./output/hr_payslip_20231228_105920.csv\n"
     ]
    }
   ],
   "source": [
    "\n",
    "# ======================================================\n",
    "#               READ DATA TO DATAFRAME\n",
    "\n",
    "df_hr_payslip = pd.read_csv(HR_PAYSLIP_INPUT)\n",
    "data = ProcessHrPayslip(df_hr_payslip)\n",
    "values = data.to_numpy()\n",
    "\n",
    "# values = data.to_numpy()[6:10]\n",
    "\n",
    "# ======================================================\n",
    "#               INSERT INTO DATABASE\n",
    "\n",
    "# Insert data to PostgreSQL database\n",
    "data.insert_postgre(sql_command=SQL_HR_PAYSLIP_COMMAND, values=values)"
   ]
  }
 ],
 "metadata": {
  "kernelspec": {
   "display_name": "Python 3",
   "language": "python",
   "name": "python3"
  },
  "language_info": {
   "codemirror_mode": {
    "name": "ipython",
    "version": 3
   },
   "file_extension": ".py",
   "mimetype": "text/x-python",
   "name": "python",
   "nbconvert_exporter": "python",
   "pygments_lexer": "ipython3",
   "version": "3.8.0"
  }
 },
 "nbformat": 4,
 "nbformat_minor": 2
}
